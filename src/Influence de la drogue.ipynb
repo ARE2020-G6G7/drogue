{
 "cells": [
  {
   "cell_type": "markdown",
   "metadata": {},
   "source": [
    "# Société "
   ]
  },
  {
   "cell_type": "code",
   "execution_count": 3,
   "metadata": {},
   "outputs": [],
   "source": [
    "import matplotlib.pyplot as plt\n",
    "import numpy as np\n",
    "import random"
   ]
  },
  {
   "cell_type": "markdown",
   "metadata": {},
   "source": [
    "Dans la première matrice on place les non-consommateurs de drogues (modélisé avec le chiffre 1) et les consommateurs (modélisé avec le chiffre 0). \n",
    "On a d'abord une matrice composée uniquement de non-consommateurs, puis la répartition des consommateurs se fait grace a une certaine probabilité qu'on applique "
   ]
  },
  {
   "cell_type": "code",
   "execution_count": 8,
   "metadata": {},
   "outputs": [
    {
     "name": "stdout",
     "output_type": "stream",
     "text": [
      "[[0 0 1 ... 1 0 1]\n",
      " [1 0 0 ... 1 0 1]\n",
      " [0 1 0 ... 1 1 0]\n",
      " ...\n",
      " [1 0 1 ... 1 0 1]\n",
      " [1 0 1 ... 1 0 1]\n",
      " [0 1 0 ... 0 1 1]]\n"
     ]
    }
   ],
   "source": [
    "def tableauBase(P):\n",
    "    \"\"\"les 0 sont les non-cosommateurs et 1 les consommateurs.\"\"\"\n",
    "    tableau_de_zero_un = np.zeros((50,50), dtype='i')\n",
    "    for i in range(len(tableau_de_zero_un)):\n",
    "        for j in range(len(tableau_de_zero_un)):\n",
    "            if random.random() < P :\n",
    "                tableau_de_zero_un[i,j] = 1\n",
    "\n",
    "    print(tableau_de_zero_un)\n",
    "    \n",
    "    return tableau_de_zero_un\n",
    "    \n",
    "tab_base = tableauBase(0.5)\n",
    "\n"
   ]
  },
  {
   "cell_type": "code",
   "execution_count": 11,
   "metadata": {},
   "outputs": [],
   "source": [
    "def voisins(tab, rowNumber, columnNumber): # a revoir \n",
    "    '''\n",
    "    fonction pour récupérer les voisins\n",
    "    '''\n",
    "    N = []\n",
    "    for i in range(rowNumber-1, rowNumber+2):\n",
    "        for j in range(columnNumber-1, columnNumber+2):\n",
    "            if  (i >= 0 and i < tab.shape[0]) and (j >= 0 and j < tab.shape[1]) and ((i,j)!=(rowNumber,columnNumber)):\n",
    "                N.append(tab[i,j])\n",
    "    return N\n"
   ]
  },
  {
   "cell_type": "code",
   "execution_count": null,
   "metadata": {},
   "outputs": [],
   "source": []
  }
 ],
 "metadata": {
  "kernelspec": {
   "display_name": "Python 3",
   "language": "python",
   "name": "python3"
  },
  "language_info": {
   "codemirror_mode": {
    "name": "ipython",
    "version": 3
   },
   "file_extension": ".py",
   "mimetype": "text/x-python",
   "name": "python",
   "nbconvert_exporter": "python",
   "pygments_lexer": "ipython3",
   "version": "3.7.6"
  }
 },
 "nbformat": 4,
 "nbformat_minor": 4
}
