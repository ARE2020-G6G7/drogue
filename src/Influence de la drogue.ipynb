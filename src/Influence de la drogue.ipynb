{
 "cells": [
  {
   "cell_type": "markdown",
   "metadata": {},
   "source": [
    "# Société "
   ]
  },
  {
   "cell_type": "code",
   "execution_count": 76,
   "metadata": {},
   "outputs": [],
   "source": [
    "import matplotlib.pyplot as plt\n",
    "import numpy as np\n",
    "import random"
   ]
  },
  {
   "cell_type": "markdown",
   "metadata": {},
   "source": [
    "\n",
    "\n",
    "Le premier paramètre que nous allons étudier est le le facteur socio-economique. Alors nous allons nous basé en premier lieu sur un système catégorisé : les riches et les pauvres. \n",
    "Les riches seront modélisé par des 1 et les pauvres par des 0.\n",
    "\n"
   ]
  },
  {
   "cell_type": "code",
   "execution_count": 94,
   "metadata": {},
   "outputs": [
    {
     "name": "stdout",
     "output_type": "stream",
     "text": [
      "[[1 1 0 1 1 0 1 1 0 1 1 0 1 1 1 0 1 1 1 1]\n",
      " [1 1 1 1 1 1 1 1 1 0 1 1 0 0 0 0 1 0 1 1]\n",
      " [1 0 0 0 1 1 0 1 0 1 1 1 1 0 1 0 1 1 0 1]\n",
      " [1 0 1 0 1 0 0 1 0 0 1 1 0 1 1 0 1 0 1 1]\n",
      " [1 0 0 1 1 1 0 1 1 1 0 1 1 1 1 1 0 1 0 1]\n",
      " [1 1 0 1 1 0 1 0 0 1 1 1 1 1 0 1 1 1 1 0]\n",
      " [1 1 1 1 0 0 0 0 0 0 1 0 1 1 1 1 0 0 0 1]\n",
      " [1 0 0 1 1 0 0 0 0 1 0 0 0 1 0 1 1 0 0 1]\n",
      " [1 0 1 0 0 0 1 1 1 1 0 1 1 0 0 0 0 1 0 1]\n",
      " [1 0 1 1 0 1 1 0 0 1 1 0 0 1 1 0 1 1 1 0]\n",
      " [1 1 0 0 1 1 1 1 0 0 1 1 1 1 1 1 1 1 0 1]\n",
      " [1 1 0 0 1 1 1 1 0 1 1 1 0 1 1 0 0 1 0 0]\n",
      " [0 1 1 1 1 0 1 0 0 1 1 1 1 1 0 0 1 1 1 1]\n",
      " [1 0 1 1 0 1 1 1 1 1 0 1 1 1 0 1 1 0 0 1]\n",
      " [0 1 1 0 0 0 1 1 0 1 1 0 1 1 0 0 0 1 1 0]\n",
      " [1 1 0 1 1 1 1 1 1 1 0 1 0 0 0 1 1 1 0 1]\n",
      " [0 1 1 1 0 1 1 1 1 1 1 0 1 0 1 1 0 1 0 1]\n",
      " [1 0 1 1 0 0 1 1 1 1 1 0 1 1 1 1 1 0 0 1]\n",
      " [0 1 1 1 1 1 0 0 0 0 0 1 1 1 1 1 1 0 1 1]\n",
      " [1 1 0 1 0 0 1 0 1 1 0 1 1 1 1 0 0 0 0 0]]\n"
     ]
    }
   ],
   "source": [
    "def tableauBase(P):\n",
    "    \"\"\"les 0 sont les pauvres et 1 les riches.\"\"\"\n",
    "    tableau_de_zero_un = np.zeros((20,20), dtype='i') #np.zeros : renvoie un tableau 1D de 20 zero (lignes) et 20 zero (colonnes)\n",
    "    for i in range(len(tableau_de_zero_un)): \n",
    "        for j in range(len(tableau_de_zero_un)):\n",
    "            if random.random() < P :\n",
    "                tableau_de_zero_un[i,j] = 1\n",
    "\n",
    "    print(tableau_de_zero_un)\n",
    "    \n",
    "    return tableau_de_zero_un\n",
    "    \n",
    "tab_base = tableauBase(0.6)\n",
    "\n"
   ]
  },
  {
   "cell_type": "code",
   "execution_count": 71,
   "metadata": {},
   "outputs": [
    {
     "name": "stdout",
     "output_type": "stream",
     "text": [
      "Population  : 361\n"
     ]
    }
   ],
   "source": [
    "def verifpop(tabF):\n",
    "    tab = tabF\n",
    "    comptC = 0 #compteur consommateurs \n",
    "    comptNC = 0 #compteur non-consommateurs \n",
    "    for i in range(len(tab)) : #parcours de la matrice \n",
    "        for j in range(len(tab)) :#parcours de la matrice \n",
    "            if  i+1 <= len(tab) and i-1 >= 0 and  j+1 <= len(tab) and j-1 >= 0:\n",
    "                if tab[i,j] == 1:\n",
    "                    comptC = comptC +1\n",
    "                if tab[i,j] == 0:\n",
    "                    comptNC = comptNC +1\n",
    "    return comptC + comptNC\n",
    "\n",
    "\n",
    "print(\"Population  :\",verifpop(tab_base))"
   ]
  },
  {
   "cell_type": "code",
   "execution_count": 101,
   "metadata": {},
   "outputs": [
    {
     "name": "stdout",
     "output_type": "stream",
     "text": [
      "[array([[1, 1, 0, 1, 1, 0, 1, 1, 0, 1, 1, 0, 1, 1, 1, 0, 1, 1, 1, 1],\n",
      "       [1, 1, 1, 1, 1, 1, 1, 1, 1, 0, 1, 1, 0, 0, 0, 0, 1, 0, 1, 1],\n",
      "       [1, 0, 0, 0, 1, 1, 0, 1, 0, 1, 1, 1, 1, 0, 1, 0, 1, 1, 0, 1],\n",
      "       [1, 0, 1, 0, 1, 0, 0, 1, 0, 0, 1, 1, 0, 1, 1, 0, 1, 0, 1, 1],\n",
      "       [1, 0, 0, 1, 1, 1, 0, 1, 1, 1, 0, 1, 1, 1, 1, 1, 0, 1, 0, 1],\n",
      "       [1, 1, 0, 1, 1, 0, 1, 0, 0, 1, 1, 1, 1, 1, 0, 1, 1, 1, 1, 0],\n",
      "       [1, 1, 1, 1, 0, 0, 0, 0, 0, 0, 1, 0, 1, 1, 1, 1, 0, 0, 0, 1],\n",
      "       [1, 0, 0, 1, 1, 0, 0, 0, 0, 1, 0, 0, 0, 1, 0, 1, 1, 0, 0, 1],\n",
      "       [1, 0, 1, 0, 0, 0, 1, 1, 1, 1, 0, 1, 1, 0, 0, 0, 0, 1, 0, 1],\n",
      "       [1, 0, 1, 1, 0, 1, 1, 0, 0, 1, 1, 0, 0, 1, 1, 0, 1, 1, 1, 0],\n",
      "       [1, 1, 0, 0, 1, 1, 1, 1, 0, 0, 1, 1, 1, 1, 1, 1, 1, 1, 0, 1],\n",
      "       [1, 1, 0, 0, 1, 1, 1, 1, 0, 1, 1, 1, 0, 1, 1, 0, 0, 1, 0, 0],\n",
      "       [0, 1, 1, 1, 1, 0, 1, 0, 0, 1, 1, 1, 1, 1, 0, 0, 1, 1, 1, 1],\n",
      "       [1, 0, 1, 1, 0, 1, 1, 1, 1, 1, 0, 1, 1, 1, 0, 1, 1, 0, 0, 1],\n",
      "       [0, 1, 1, 0, 0, 0, 1, 1, 0, 1, 1, 0, 1, 1, 0, 0, 0, 1, 1, 0],\n",
      "       [1, 1, 0, 1, 1, 1, 1, 1, 1, 1, 0, 1, 0, 0, 0, 1, 1, 1, 0, 1],\n",
      "       [0, 1, 1, 1, 0, 1, 1, 1, 1, 1, 1, 0, 1, 0, 1, 1, 0, 1, 0, 1],\n",
      "       [1, 0, 1, 1, 0, 0, 1, 1, 1, 1, 1, 0, 1, 1, 1, 1, 1, 0, 0, 1],\n",
      "       [0, 1, 1, 1, 1, 1, 0, 0, 0, 0, 0, 1, 1, 1, 1, 1, 1, 0, 1, 1],\n",
      "       [1, 1, 0, 1, 0, 0, 1, 0, 1, 1, 0, 1, 1, 1, 1, 0, 0, 0, 0, 0]],\n",
      "      dtype=int32)]\n"
     ]
    }
   ],
   "source": [
    "def influence_se(tab):  #a revoir ! pourquoi pas de -1 ??\n",
    "    \"\"\"un carré de 0 crée un groupe de consommateurs (nommé -1)\"\"\"\n",
    "    tableau = tab.copy()\n",
    "    for i in range(len(tableau)) :\n",
    "        for j in range(len(tableau)) :\n",
    "            if  i+1 < len(tableau) and i-1 >= 0 and  j+1 < len(tableau) and j-1 >= 0:\n",
    "                 if tableau[i,j] == 0 and tableau[i+1,j]==0  and tableau[i,j+1]==0 and tableau[i+1,j+1]==0 :\n",
    "                    tableau[i,j] = -1\n",
    "                    tableau[i+1,j]=-1 \n",
    "                    tableau[i,j+1]=-1\n",
    "                    tableau[i+1,j+1]=-1           \n",
    "   \n",
    "    return tableau\n",
    "\n",
    "print(influence_se([tab_base]))"
   ]
  },
  {
   "cell_type": "code",
   "execution_count": null,
   "metadata": {},
   "outputs": [],
   "source": []
  },
  {
   "cell_type": "code",
   "execution_count": null,
   "metadata": {},
   "outputs": [],
   "source": []
  },
  {
   "cell_type": "code",
   "execution_count": null,
   "metadata": {},
   "outputs": [],
   "source": []
  },
  {
   "cell_type": "code",
   "execution_count": null,
   "metadata": {},
   "outputs": [],
   "source": []
  }
 ],
 "metadata": {
  "kernelspec": {
   "display_name": "Python 3",
   "language": "python",
   "name": "python3"
  },
  "language_info": {
   "codemirror_mode": {
    "name": "ipython",
    "version": 3
   },
   "file_extension": ".py",
   "mimetype": "text/x-python",
   "name": "python",
   "nbconvert_exporter": "python",
   "pygments_lexer": "ipython3",
   "version": "3.7.6"
  }
 },
 "nbformat": 4,
 "nbformat_minor": 4
}
