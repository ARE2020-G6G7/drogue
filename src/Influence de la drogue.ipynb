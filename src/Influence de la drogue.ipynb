{
 "cells": [
  {
   "cell_type": "markdown",
   "metadata": {},
   "source": [
    "# Société "
   ]
  },
  {
   "cell_type": "code",
   "execution_count": 7,
   "metadata": {},
   "outputs": [],
   "source": [
    "import matplotlib.pyplot as plt\n",
    "import numpy as np\n",
    "import random"
   ]
  },
  {
   "cell_type": "markdown",
   "metadata": {},
   "source": [
    "Dans la première matrice on place les consommateurs de drogues (modélisé avec le chiffre 1) et les non-consommateurs (modélisé avec le chiffre 0). \n",
    "On a d'abord une matrice composée uniquement de non-consommateurs, puis la répartition des consommateurs se fait grace a une certaine probabilité qu'on applique "
   ]
  },
  {
   "cell_type": "code",
   "execution_count": 31,
   "metadata": {},
   "outputs": [
    {
     "name": "stdout",
     "output_type": "stream",
     "text": [
      "[[1 1 0 0 1 1 1 0 0 1 1 0 1 1 1 1 0 0 1 1]\n",
      " [0 0 0 0 0 0 1 0 1 0 0 1 1 0 1 1 1 0 0 0]\n",
      " [1 1 0 1 1 0 0 0 0 0 0 0 0 1 1 1 0 0 0 0]\n",
      " [1 1 1 0 1 0 0 1 0 1 1 0 1 1 0 0 1 1 1 0]\n",
      " [0 1 0 0 1 1 0 0 0 0 1 1 1 0 1 1 1 1 1 1]\n",
      " [1 0 0 0 1 1 1 1 1 1 1 0 0 1 0 0 0 1 1 0]\n",
      " [1 1 1 1 1 1 0 0 1 0 1 1 0 0 0 1 1 0 1 0]\n",
      " [0 0 1 0 0 0 1 1 0 1 1 1 1 0 1 1 1 0 1 1]\n",
      " [0 1 1 0 1 0 1 0 1 1 1 1 0 1 0 0 1 1 1 0]\n",
      " [0 1 1 1 1 1 0 0 0 0 1 0 0 0 1 0 0 0 1 1]\n",
      " [0 1 0 1 1 1 1 0 1 1 0 0 1 0 1 0 0 0 0 1]\n",
      " [0 0 0 1 0 0 1 1 0 1 1 0 1 0 1 1 0 0 1 1]\n",
      " [0 1 0 0 1 1 1 1 1 0 1 1 1 1 1 0 1 1 1 1]\n",
      " [1 0 0 1 0 0 1 0 1 1 1 0 1 0 1 1 1 1 1 0]\n",
      " [1 0 1 1 1 0 1 1 1 0 1 1 1 1 1 1 1 1 0 1]\n",
      " [0 1 1 1 0 1 1 0 1 0 0 0 1 1 1 1 0 0 0 0]\n",
      " [1 1 0 1 1 0 0 1 1 1 1 1 1 1 0 0 1 1 1 1]\n",
      " [1 0 1 1 0 0 0 0 1 1 1 0 0 1 1 0 1 0 0 0]\n",
      " [0 0 1 0 0 0 1 0 0 0 0 1 0 0 1 0 0 1 0 0]\n",
      " [0 1 1 1 1 1 0 1 0 1 1 0 1 0 1 0 1 0 0 0]]\n"
     ]
    }
   ],
   "source": [
    "def tableauBase(P):\n",
    "    \"\"\"les 0 sont les non-cosommateurs et 1 les consommateurs.\"\"\"\n",
    "    tableau_de_zero_un = np.zeros((20,20), dtype='i') #np.zeros : renvoie un tableau 1D de 20 zero (lignes) et 20 zero (colonnes)\n",
    "    for i in range(len(tableau_de_zero_un)): \n",
    "        for j in range(len(tableau_de_zero_un)):\n",
    "            if random.random() < P :\n",
    "                tableau_de_zero_un[i,j] = 1\n",
    "\n",
    "    print(tableau_de_zero_un)\n",
    "    \n",
    "    return tableau_de_zero_un\n",
    "    \n",
    "tab_base = tableauBase(0.6)\n",
    "\n"
   ]
  },
  {
   "cell_type": "code",
   "execution_count": 35,
   "metadata": {},
   "outputs": [
    {
     "name": "stdout",
     "output_type": "stream",
     "text": [
      "nb pers : 361\n"
     ]
    }
   ],
   "source": [
    "def verifNb(tabF):\n",
    "    tab = tabF\n",
    "    comptC = 0 #compteur consommateurs \n",
    "    comptNC = 0 #compteur non-consommateurs \n",
    "    for i in range(len(tab)) : #parcours de la matrice \n",
    "        for j in range(len(tab)) :#parcours de la matrice \n",
    "            if  i+1 <= len(tab) and i-1 >= 0 and  j+1 <= len(tab) and j-1 >= 0:\n",
    "                if tab[i,j] == 1:\n",
    "                    comptC = comptC +1\n",
    "                if tab[i,j] == 0:\n",
    "                    comptNC = comptNC +1\n",
    "    return comptC + comptNC\n",
    "\n",
    "\n",
    "print(\"nb pers :\",verifNb(tab_base))"
   ]
  },
  {
   "cell_type": "code",
   "execution_count": null,
   "metadata": {},
   "outputs": [],
   "source": []
  }
 ],
 "metadata": {
  "kernelspec": {
   "display_name": "Python 3",
   "language": "python",
   "name": "python3"
  },
  "language_info": {
   "codemirror_mode": {
    "name": "ipython",
    "version": 3
   },
   "file_extension": ".py",
   "mimetype": "text/x-python",
   "name": "python",
   "nbconvert_exporter": "python",
   "pygments_lexer": "ipython3",
   "version": "3.7.6"
  }
 },
 "nbformat": 4,
 "nbformat_minor": 4
}
