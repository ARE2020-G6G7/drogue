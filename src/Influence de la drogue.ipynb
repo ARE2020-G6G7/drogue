{
 "cells": [
  {
   "cell_type": "markdown",
   "metadata": {},
   "source": [
    "# Société "
   ]
  },
  {
   "cell_type": "code",
   "execution_count": 9,
   "metadata": {},
   "outputs": [],
   "source": [
    "import matplotlib.pyplot as plt\n",
    "import numpy as np\n",
    "import random"
   ]
  },
  {
   "cell_type": "markdown",
   "metadata": {},
   "source": [
    "\n",
    "\n",
    "Le premier paramètre que nous allons étudier est le le facteur socio-economique. Alors nous allons nous basé en premier lieu sur un système catégorisé : les riches et les pauvres. \n",
    "La classe moyenne a riche sera modélisée par des 1 et la classe pauvre par des 0.\n",
    "\n"
   ]
  },
  {
   "cell_type": "code",
   "execution_count": 23,
   "metadata": {},
   "outputs": [
    {
     "name": "stdout",
     "output_type": "stream",
     "text": [
      "[[1 1 1 ... 0 1 0]\n",
      " [0 1 0 ... 0 1 1]\n",
      " [1 1 0 ... 1 1 1]\n",
      " ...\n",
      " [0 1 1 ... 0 0 1]\n",
      " [1 1 0 ... 0 1 0]\n",
      " [1 1 0 ... 0 1 1]]\n"
     ]
    }
   ],
   "source": [
    "def tableauBase(P):\n",
    "    \"\"\"les 0 sont les pauvres et 1 les riches.\"\"\"\n",
    "    tableau_de_zero_un = np.zeros((50,50), dtype='i') #np.zeros : renvoie un tableau 1D de 50 zero (lignes) et 50 zero (colonnes)\n",
    "    for i in range(len(tableau_de_zero_un)): \n",
    "        for j in range(len(tableau_de_zero_un)):\n",
    "            if random.random() < P :\n",
    "                tableau_de_zero_un[i,j] = 1\n",
    "\n",
    "    print(tableau_de_zero_un)\n",
    "    \n",
    "    return tableau_de_zero_un\n",
    "    \n",
    "tab_base = tableauBase(0.6)\n",
    "\n"
   ]
  },
  {
   "cell_type": "code",
   "execution_count": 24,
   "metadata": {},
   "outputs": [
    {
     "name": "stdout",
     "output_type": "stream",
     "text": [
      "Population  : 2401\n"
     ]
    }
   ],
   "source": [
    "def verifpop(tabF):\n",
    "    tab = tabF\n",
    "    comptC = 0 #compteur consommateurs \n",
    "    comptNC = 0 #compteur non-consommateurs \n",
    "    for i in range(len(tab)) : #parcours de la matrice \n",
    "        for j in range(len(tab)) :#parcours de la matrice \n",
    "            if  i+1 <= len(tab) and i-1 >= 0 and  j+1 <= len(tab) and j-1 >= 0:\n",
    "                if tab[i,j] == 1:\n",
    "                    comptC = comptC +1\n",
    "                if tab[i,j] == 0:\n",
    "                    comptNC = comptNC +1\n",
    "    return comptC + comptNC\n",
    "\n",
    "\n",
    "print(\"Population  :\",verifpop(tab_base))"
   ]
  },
  {
   "cell_type": "markdown",
   "metadata": {},
   "source": [
    "Ensuite, une nouvelle matrice pour modéliser les consommateurs. La présence 4 '0' créé des consommateurs (-1)."
   ]
  },
  {
   "cell_type": "code",
   "execution_count": 25,
   "metadata": {},
   "outputs": [
    {
     "name": "stdout",
     "output_type": "stream",
     "text": [
      "[[ 1  1  1 ...  0  1  0]\n",
      " [ 0  1 -1 ...  0  1  1]\n",
      " [ 1  1 -1 ...  1  1  1]\n",
      " ...\n",
      " [ 0  1  1 ...  0  0  1]\n",
      " [ 1  1  0 ...  0  1  0]\n",
      " [ 1  1  0 ...  0  1  1]]\n"
     ]
    }
   ],
   "source": [
    "def influence_se(tab):  \n",
    "    \"\"\"un carré de 0 crée un groupe de consommateurs (nommé -1)\"\"\"\n",
    "    tableau = tab.copy()\n",
    "    for i in range(len(tableau)) :\n",
    "        for j in range(len(tableau)) :\n",
    "            if  i+1 < len(tableau) and i-1 >= 0 and  j+1 < len(tableau) and j-1 >= 0:\n",
    "                 if tableau[i,j] == 0 and tableau[i+1,j]==0  and tableau[i,j+1]==0 and tableau[i+1,j+1]==0 :\n",
    "                    tableau[i,j] = -1\n",
    "                    tableau[i+1,j]=-1 \n",
    "                    tableau[i,j+1]=-1\n",
    "                    tableau[i+1,j+1]=-1           \n",
    "   \n",
    "    return tableau\n",
    "\n",
    "print(influence_se(tab_base))"
   ]
  },
  {
   "cell_type": "markdown",
   "metadata": {},
   "source": [
    "Le voisinnage : Lorsque un individu est entouré de -1, il voudra déménager. "
   ]
  },
  {
   "cell_type": "code",
   "execution_count": 26,
   "metadata": {},
   "outputs": [],
   "source": [
    "def voisins(tab, rowNumber, columnNumber):\n",
    "    '''\n",
    "    fonction pour récupérer les voisins\n",
    "    '''\n",
    "    N = []\n",
    "    for i in range(rowNumber-1, rowNumber+2):\n",
    "        for j in range(columnNumber-1, columnNumber+2):\n",
    "            if  (i >= 0 and i < tab.shape[0]) and (j >= 0 and j < tab.shape[1]) and ((i,j)!=(rowNumber,columnNumber)):\n",
    "                N.append(tab[i,j])\n",
    "    return N\n"
   ]
  },
  {
   "cell_type": "code",
   "execution_count": 27,
   "metadata": {},
   "outputs": [
    {
     "data": {
      "text/plain": [
       "0.375"
      ]
     },
     "execution_count": 27,
     "metadata": {},
     "output_type": "execute_result"
    }
   ],
   "source": [
    "def moyenne_voisins(tab,i,j):\n",
    "    '''\n",
    "    Calcul de la moyenne des valeurs voisinnes\n",
    "    '''\n",
    "    N = voisins(tab,i,j)\n",
    "    return sum(N)/len(N)\n",
    "    \n",
    "moyenne_voisins(tab_base,2,3)\n"
   ]
  },
  {
   "cell_type": "code",
   "execution_count": 28,
   "metadata": {},
   "outputs": [],
   "source": [
    "def Listedemenagement(tableau):\n",
    "    \"\"\"demande de demenagement apres parcours de la matrice\"\"\"\n",
    "    #demande : list[int]\n",
    "    demande = []\n",
    "    for i in range(len(tableau)) :\n",
    "        for j in range(len(tableau)) :\n",
    "                if (tableau[i,j] == 1 and  moyenne_voisins(tableau,i,j) < 0.5) or (tableau[i,j] == 0 and  moyenne_voisins(tableau,i,j) > 0.5) :\n",
    "                    demande.append(tableau[i,j])\n",
    "                                            \n",
    "    return demande\n"
   ]
  },
  {
   "cell_type": "code",
   "execution_count": 29,
   "metadata": {},
   "outputs": [],
   "source": [
    "def demandeDem(tab):\n",
    "    \"\"\"représentation de la demande de demenagement \"\"\"\n",
    "    tableau = tab.copy()\n",
    "    for i in range(len(tableau)) :\n",
    "        for j in range(len(tableau)) :\n",
    "             if  i+1 < len(tableau) and i-1 >= 0 and  j+1 < len(tableau) and j-1 >= 0 :\n",
    "                    if (tableau[i,j] == 1 and  moyenne_voisins(tableau,i,j) < 0.5) or (tableau[i,j] == 0 and  moyenne_voisins(tableau,i,j) > 0.5 ) :\n",
    "                        tableau[i,j] = 2 #case 1 ou 0 devient 2 \n",
    "    \n",
    "    return tableau"
   ]
  },
  {
   "cell_type": "code",
   "execution_count": 30,
   "metadata": {},
   "outputs": [],
   "source": [
    "def demenagement(tableau,tab_bases,L):\n",
    "    \"\"\"deplacement de personne\"\"\"\n",
    "    \n",
    "    #ind : int\n",
    "    for i in range(len(tableau)) :\n",
    "        for j in range(len(tableau)) :\n",
    "            \n",
    "             if  i+1 < len(tableau) and i-1 >= 0 and  j+1 < len(tableau) and j-1 >= 0:\n",
    "                    \n",
    "                    if tableau[i,j] == 2  and moyenne_voisins(tab_base,i,j) > 0.5 :\n",
    "                        for demandeur in range (0,len(L)-1):\n",
    "                             if L[demandeur] == 1:\n",
    "                                tableau[i,j] = L[demandeur]\n",
    "                                L[demandeur] = -2\n",
    "                                break\n",
    "                        if tableau[i,j] == 2:\n",
    "                            tableau[i,j] = tab_bases[i,j]\n",
    "                                \n",
    "                    if tableau[i,j] == 2  and moyenne_voisins(tab_base,i,j) <= 0.5 :\n",
    "                        for demandeur in range (0,len(L)-1):\n",
    "                            if L[demandeur] == 0 :\n",
    "                                tableau[i,j] = L[demandeur]\n",
    "                                L[demandeur] = -2\n",
    "                                break\n",
    "                                \n",
    "                        if tableau[i,j] == 2:\n",
    "                            tableau[i,j] = tab_bases[i,j]\n",
    "    print(\"\\n\\n\\t NOUVEAU  'QUARTIER' \\n\\n\\n\")\n",
    "    print(tableau)\n",
    "    return tableau"
   ]
  },
  {
   "cell_type": "code",
   "execution_count": 31,
   "metadata": {},
   "outputs": [],
   "source": [
    "def nvpop(tableau,tab_base,L):#creation de la nouvelle population \n",
    "    \"\"\"liste des demande non traiter\"\"\"\n",
    "    #ind : int\n",
    "    for i in range(len(tableau)) :\n",
    "        for j in range(len(tableau)) :\n",
    "            if  i+1 < len(tableau) and i-1 >= 0 and  j+1 < len(tableau) and j-1 >= 0:\n",
    "                if moyenne_voisins(tab_base,i,j) > 0.5 :\n",
    "                    for demandeur in range (0,len(L)-1):\n",
    "                        if L[demandeur] == 1:\n",
    "                            L[demandeur] = -2\n",
    "                            break\n",
    "                                \n",
    "                if moyenne_voisins(tab_base,i,j) <= 0.5 :\n",
    "                    for demandeur in range (0,len(L)-1):\n",
    "                        if L[demandeur] == 0 :\n",
    "                            L[demandeur] = -2\n",
    "                            break\n",
    "    return L\n"
   ]
  },
  {
   "cell_type": "code",
   "execution_count": 37,
   "metadata": {},
   "outputs": [
    {
     "name": "stdout",
     "output_type": "stream",
     "text": [
      "\n",
      "\n",
      "\t NOUVEAU  'QUARTIER' \n",
      "\n",
      "\n",
      "\n",
      "[[1 1 1 ... 0 1 0]\n",
      " [0 1 1 ... 1 1 1]\n",
      " [1 1 1 ... 1 1 1]\n",
      " ...\n",
      " [0 1 1 ... 0 0 1]\n",
      " [1 1 0 ... 0 1 0]\n",
      " [1 1 0 ... 0 1 1]]\n",
      "nombre de demenagement : 871\n",
      "\n",
      "\n",
      "\t NOUVEAU  'QUARTIER' \n",
      "\n",
      "\n",
      "\n",
      "[[1 1 1 ... 0 1 0]\n",
      " [0 1 1 ... 1 1 1]\n",
      " [1 1 1 ... 1 1 1]\n",
      " ...\n",
      " [0 1 1 ... 0 0 1]\n",
      " [1 1 0 ... 0 1 0]\n",
      " [1 1 0 ... 0 1 1]]\n",
      "nombre de demenagement : 599\n",
      "\n",
      "\n",
      "\t NOUVEAU  'QUARTIER' \n",
      "\n",
      "\n",
      "\n",
      "[[1 1 1 ... 0 1 0]\n",
      " [0 1 1 ... 1 1 1]\n",
      " [1 1 1 ... 1 1 1]\n",
      " ...\n",
      " [0 1 1 ... 0 0 1]\n",
      " [1 1 0 ... 0 1 0]\n",
      " [1 1 0 ... 0 1 1]]\n",
      "nombre de demenagement : 450\n",
      "\n",
      "\n",
      "\t NOUVEAU  'QUARTIER' \n",
      "\n",
      "\n",
      "\n",
      "[[1 1 1 ... 0 1 0]\n",
      " [0 1 1 ... 1 1 1]\n",
      " [1 1 1 ... 1 1 1]\n",
      " ...\n",
      " [0 1 1 ... 0 0 1]\n",
      " [1 1 1 ... 0 1 0]\n",
      " [1 1 0 ... 0 1 1]]\n",
      "nombre de demenagement : 356\n",
      "\n",
      "rajout de la creation des consommateurs\n",
      "\n"
     ]
    },
    {
     "data": {
      "image/png": "[encoded data removed]",
      "text/plain": [
       "<Figure size 288x288 with 1 Axes>"
      ]
     },
     "metadata": {
      "needs_background": "light"
     },
     "output_type": "display_data"
    },
    {
     "data": {
      "image/png": "[encoded data removed]",
      "text/plain": [
       "<Figure size 288x288 with 1 Axes>"
      ]
     },
     "metadata": {
      "needs_background": "light"
     },
     "output_type": "display_data"
    },
    {
     "name": "stdout",
     "output_type": "stream",
     "text": [
      "nb pers : 2401\n"
     ]
    }
   ],
   "source": [
    "def n_generations(tab_base,n):\n",
    "    \"\"\" transformation de la ville \"\"\"\n",
    "    \n",
    "    ancienneV = tab_base\n",
    "    plt.matshow(ancienneV)\n",
    "    \n",
    "    for nb in range(0,n-1):\n",
    "        \n",
    "        DMdemenagement = demandeDem(ancienneV)\n",
    "        Ldmng = Listedemenagement(ancienneV)\n",
    "        nouvelleV=demenagement(DMdemenagement,ancienneV,Ldmng)\n",
    "        ancienneV=nouvelleV\n",
    "        \n",
    "        print(\"nombre de demenagement :\",len(Ldmng))\n",
    "        \n",
    "        \n",
    "    print(\"\\nrajout de la creation des consommateurs\\n\")\n",
    "    plt.matshow(influence_se(nouvelleV))#de la nouvelle population\n",
    "    plt.show()\n",
    "    \n",
    "    print(\"nb pers :\",verifpop(nouvelleV))\n",
    "    return 0 \n",
    "\n",
    "tabF=n_generations(tab_base,5)"
   ]
  },
  {
   "cell_type": "markdown",
   "metadata": {},
   "source": [
    "# INFLUENCE FAMILIALE "
   ]
  },
  {
   "cell_type": "markdown",
   "metadata": {},
   "source": [
    "Pour cette seconde partie, nous allons modéliser les conséquences que peut avoir l'influence familiale. \n"
   ]
  },
  {
   "cell_type": "markdown",
   "metadata": {},
   "source": [
    "- modélisation d'une famille (max 5pers)\n",
    "- si 1 personne est consommatrices (0), X% chance qu'une autre le devienne\n",
    "- ..."
   ]
  },
  {
   "cell_type": "code",
   "execution_count": null,
   "metadata": {},
   "outputs": [],
   "source": []
  }
 ],
 "metadata": {
  "kernelspec": {
   "display_name": "Python 3",
   "language": "python",
   "name": "python3"
  },
  "language_info": {
   "codemirror_mode": {
    "name": "ipython",
    "version": 3
   },
   "file_extension": ".py",
   "mimetype": "text/x-python",
   "name": "python",
   "nbconvert_exporter": "python",
   "pygments_lexer": "ipython3",
   "version": "3.7.6"
  }
 },
 "nbformat": 4,
 "nbformat_minor": 4
}
